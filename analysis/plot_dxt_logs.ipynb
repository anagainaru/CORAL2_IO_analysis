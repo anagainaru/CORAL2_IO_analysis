{
 "cells": [
  {
   "cell_type": "code",
   "execution_count": 1,
   "metadata": {},
   "outputs": [],
   "source": [
    "import numpy as np\n",
    "import pandas as pd\n",
    "import seaborn as sns; sns.set()\n",
    "import matplotlib.pyplot as plt"
   ]
  },
  {
   "cell_type": "markdown",
   "metadata": {},
   "source": [
    "# DTX Darshan logs"
   ]
  },
  {
   "cell_type": "code",
   "execution_count": 2,
   "metadata": {},
   "outputs": [],
   "source": [
    "application_name = \"nwchem\"\n",
    "darshan_file = \"../%s/darshan/nwchem.log\" %(application_name)"
   ]
  },
  {
   "cell_type": "markdown",
   "metadata": {},
   "source": [
    "## Read the metadata for the log"
   ]
  },
  {
   "cell_type": "code",
   "execution_count": 3,
   "metadata": {},
   "outputs": [],
   "source": [
    "def read_metadata(filename):\n",
    "    metadata = {}\n",
    "    inf = open(filename)\n",
    "    for line in inf:\n",
    "        # ignore blank lines\n",
    "        if len(line) < 2:\n",
    "            continue\n",
    "        # stop when the header section is finished\n",
    "        if line[0] != \"#\":\n",
    "            break\n",
    "        delimiter = line.find(\":\")\n",
    "        if delimiter == -1:\n",
    "            continue\n",
    "        key = line[2 : delimiter].lstrip().rstrip()\n",
    "        value = line[delimiter + 1 : -1].lstrip().rstrip()\n",
    "        if key not in metadata:\n",
    "            metadata[key] = []\n",
    "        metadata[key].append(value)\n",
    "    inf.close()\n",
    "    return metadata"
   ]
  },
  {
   "cell_type": "code",
   "execution_count": 4,
   "metadata": {},
   "outputs": [],
   "source": [
    "metadata = read_metadata(darshan_file)"
   ]
  },
  {
   "cell_type": "code",
   "execution_count": 5,
   "metadata": {},
   "outputs": [
    {
     "name": "stdout",
     "output_type": "stream",
     "text": [
      "Metadata available for ['darshan log version', 'compression method', 'exe', 'uid', 'jobid', 'start_time', 'start_time_asci', 'end_time', 'end_time_asci', 'nprocs', 'run time', 'metadata', 'header', 'job data', 'record table', 'POSIX module', 'STDIO module', 'DXT_POSIX module', 'mount entry', 'description of columns', '<module>', '<rank>', '<record id>', '<counter name> and <counter value>', '<file name>', '<mount pt>', '<fs type>', 'description of POSIX counters', 'POSIX_*', 'POSIX_RENAME_SOURCES/TARGETS', 'POSIX_RENAMED_FROM', 'POSIX_MODE', 'POSIX_BYTES_*', 'POSIX_MAX_BYTE_*', 'POSIX_CONSEC_*', 'POSIX_SEQ_*', 'POSIX_RW_SWITCHES', 'POSIX_*_ALIGNMENT', 'POSIX_*_NOT_ALIGNED', 'POSIX_MAX_*_TIME_SIZE', 'POSIX_SIZE_*_*', 'POSIX_STRIDE*_STRIDE', 'POSIX_STRIDE*_COUNT', 'POSIX_ACCESS*_ACCESS', 'POSIX_ACCESS*_COUNT', 'POSIX_*_RANK', 'POSIX_*_RANK_BYTES', 'POSIX_F_*_START_TIMESTAMP', 'POSIX_F_*_END_TIMESTAMP', 'POSIX_F_READ/WRITE/META_TIME', 'POSIX_F_MAX_*_TIME', 'POSIX_F_*_RANK_TIME', 'POSIX_F_VARIANCE_RANK_*', 'WARNING', '- Affected counters include']\n"
     ]
    }
   ],
   "source": [
    "print(\"Metadata available for %s\" %([i for i in metadata]))"
   ]
  },
  {
   "cell_type": "code",
   "execution_count": 6,
   "metadata": {},
   "outputs": [
    {
     "name": "stdout",
     "output_type": "stream",
     "text": [
      "Darshan version: ['3.10']\n"
     ]
    }
   ],
   "source": [
    "print(\"Darshan version: %s\" %(metadata[\"darshan log version\"]))"
   ]
  },
  {
   "cell_type": "markdown",
   "metadata": {},
   "source": [
    "## Read the Darshan log"
   ]
  },
  {
   "cell_type": "code",
   "execution_count": 7,
   "metadata": {},
   "outputs": [
    {
     "data": {
      "text/html": [
       "<div>\n",
       "<style scoped>\n",
       "    .dataframe tbody tr th:only-of-type {\n",
       "        vertical-align: middle;\n",
       "    }\n",
       "\n",
       "    .dataframe tbody tr th {\n",
       "        vertical-align: top;\n",
       "    }\n",
       "\n",
       "    .dataframe thead th {\n",
       "        text-align: right;\n",
       "    }\n",
       "</style>\n",
       "<table border=\"1\" class=\"dataframe\">\n",
       "  <thead>\n",
       "    <tr style=\"text-align: right;\">\n",
       "      <th></th>\n",
       "      <th>IOType</th>\n",
       "      <th>Rank</th>\n",
       "      <th>RecordID</th>\n",
       "      <th>Counter</th>\n",
       "      <th>Value</th>\n",
       "      <th>FileName</th>\n",
       "      <th>MountPt</th>\n",
       "      <th>FSType</th>\n",
       "    </tr>\n",
       "  </thead>\n",
       "  <tbody>\n",
       "    <tr>\n",
       "      <th>0</th>\n",
       "      <td>POSIX</td>\n",
       "      <td>0</td>\n",
       "      <td>1828374797521024576</td>\n",
       "      <td>POSIX_OPENS</td>\n",
       "      <td>2.0</td>\n",
       "      <td>/gpfs/alpine/csc143/proj-shared/againaru/nwche...</td>\n",
       "      <td>/gpfs/alpine</td>\n",
       "      <td>gpfs</td>\n",
       "    </tr>\n",
       "    <tr>\n",
       "      <th>1</th>\n",
       "      <td>POSIX</td>\n",
       "      <td>0</td>\n",
       "      <td>1828374797521024576</td>\n",
       "      <td>POSIX_FILENOS</td>\n",
       "      <td>0.0</td>\n",
       "      <td>/gpfs/alpine/csc143/proj-shared/againaru/nwche...</td>\n",
       "      <td>/gpfs/alpine</td>\n",
       "      <td>gpfs</td>\n",
       "    </tr>\n",
       "    <tr>\n",
       "      <th>2</th>\n",
       "      <td>POSIX</td>\n",
       "      <td>0</td>\n",
       "      <td>1828374797521024576</td>\n",
       "      <td>POSIX_DUPS</td>\n",
       "      <td>0.0</td>\n",
       "      <td>/gpfs/alpine/csc143/proj-shared/againaru/nwche...</td>\n",
       "      <td>/gpfs/alpine</td>\n",
       "      <td>gpfs</td>\n",
       "    </tr>\n",
       "    <tr>\n",
       "      <th>3</th>\n",
       "      <td>POSIX</td>\n",
       "      <td>0</td>\n",
       "      <td>1828374797521024576</td>\n",
       "      <td>POSIX_READS</td>\n",
       "      <td>9.0</td>\n",
       "      <td>/gpfs/alpine/csc143/proj-shared/againaru/nwche...</td>\n",
       "      <td>/gpfs/alpine</td>\n",
       "      <td>gpfs</td>\n",
       "    </tr>\n",
       "    <tr>\n",
       "      <th>4</th>\n",
       "      <td>POSIX</td>\n",
       "      <td>0</td>\n",
       "      <td>1828374797521024576</td>\n",
       "      <td>POSIX_WRITES</td>\n",
       "      <td>0.0</td>\n",
       "      <td>/gpfs/alpine/csc143/proj-shared/againaru/nwche...</td>\n",
       "      <td>/gpfs/alpine</td>\n",
       "      <td>gpfs</td>\n",
       "    </tr>\n",
       "  </tbody>\n",
       "</table>\n",
       "</div>"
      ],
      "text/plain": [
       "  IOType  Rank             RecordID        Counter  Value  \\\n",
       "0  POSIX     0  1828374797521024576    POSIX_OPENS    2.0   \n",
       "1  POSIX     0  1828374797521024576  POSIX_FILENOS    0.0   \n",
       "2  POSIX     0  1828374797521024576     POSIX_DUPS    0.0   \n",
       "3  POSIX     0  1828374797521024576    POSIX_READS    9.0   \n",
       "4  POSIX     0  1828374797521024576   POSIX_WRITES    0.0   \n",
       "\n",
       "                                            FileName       MountPt FSType  \n",
       "0  /gpfs/alpine/csc143/proj-shared/againaru/nwche...  /gpfs/alpine   gpfs  \n",
       "1  /gpfs/alpine/csc143/proj-shared/againaru/nwche...  /gpfs/alpine   gpfs  \n",
       "2  /gpfs/alpine/csc143/proj-shared/againaru/nwche...  /gpfs/alpine   gpfs  \n",
       "3  /gpfs/alpine/csc143/proj-shared/againaru/nwche...  /gpfs/alpine   gpfs  \n",
       "4  /gpfs/alpine/csc143/proj-shared/againaru/nwche...  /gpfs/alpine   gpfs  "
      ]
     },
     "execution_count": 7,
     "metadata": {},
     "output_type": "execute_result"
    }
   ],
   "source": [
    "# Darshan files have the following format:\n",
    "# <module> <rank> <record id> <counter> <value> <file name> <mount pt> <fs type>\n",
    "\n",
    "df = pd.read_csv(darshan_file, delimiter='\\t', comment='#',\n",
    "                 names=['IOType', 'Rank', 'RecordID', 'Counter', 'Value',\n",
    "                        'FileName', 'MountPt', 'FSType'])\n",
    "df.head()"
   ]
  },
  {
   "cell_type": "markdown",
   "metadata": {},
   "source": [
    "## Log Summary"
   ]
  },
  {
   "cell_type": "code",
   "execution_count": 8,
   "metadata": {},
   "outputs": [],
   "source": [
    "log_summary = {}\n",
    "log_summary[\"Walltime\"] = int(metadata[\"run time\"][0])\n",
    "log_summary[\"Total_ranks\"] = int(metadata[\"nprocs\"][0])\n",
    "log_summary[\"IO_Types\"] = df['IOType'].unique()\n",
    "log_summary[\"FS_Types\"] = df['FSType'].unique()\n",
    "log_summary[\"#ranks_involved\"] = len(df['Rank'].unique())\n",
    "log_summary[\"#files_accessed\"] = len(df['FileName'].unique())\n",
    "\n",
    "# Get access size for each IO type\n",
    "log_summary[\"Access_size_bytes\"] = {}\n",
    "for i in log_summary[\"IO_Types\"]:\n",
    "    value = metadata[\"%s module\" %(i)][0]\n",
    "    # Assuming all logs record bytes\n",
    "    value = value[:value.find(\" \")]\n",
    "    log_summary[\"Access_size_bytes\"][i] = int(value)"
   ]
  },
  {
   "cell_type": "code",
   "execution_count": 9,
   "metadata": {},
   "outputs": [
    {
     "name": "stdout",
     "output_type": "stream",
     "text": [
      "Stats for nwchem\n",
      "---------\n",
      "Walltime 177\n",
      "Total_ranks 224\n",
      "IO_Types ['POSIX' 'STDIO']\n",
      "FS_Types ['gpfs' 'UNKNOWN']\n",
      "#ranks_involved 224\n",
      "#files_accessed 468\n",
      "Access_size_bytes {'POSIX': 37034, 'STDIO': 414}\n"
     ]
    }
   ],
   "source": [
    "print(\"Stats for %s\" %(application_name))\n",
    "print(\"---------\")\n",
    "for i in log_summary:\n",
    "    print(i, log_summary[i])"
   ]
  },
  {
   "cell_type": "markdown",
   "metadata": {},
   "source": [
    "# Plot Darshan statistics"
   ]
  },
  {
   "cell_type": "code",
   "execution_count": null,
   "metadata": {},
   "outputs": [],
   "source": []
  }
 ],
 "metadata": {
  "kernelspec": {
   "display_name": "Python 3",
   "language": "python",
   "name": "python3"
  },
  "language_info": {
   "codemirror_mode": {
    "name": "ipython",
    "version": 3
   },
   "file_extension": ".py",
   "mimetype": "text/x-python",
   "name": "python",
   "nbconvert_exporter": "python",
   "pygments_lexer": "ipython3",
   "version": "3.7.6"
  }
 },
 "nbformat": 4,
 "nbformat_minor": 4
}
